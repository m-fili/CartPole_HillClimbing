{
 "cells": [
  {
   "cell_type": "code",
   "execution_count": 1,
   "metadata": {
    "collapsed": true
   },
   "outputs": [],
   "source": [
    "import numpy as np\n",
    "import gym\n",
    "\n",
    "from model import LinearModel"
   ]
  },
  {
   "cell_type": "code",
   "execution_count": 2,
   "outputs": [
    {
     "name": "stdout",
     "output_type": "stream",
     "text": [
      "Max Steps in an episode: 500\n",
      "Reward threshold: 475.0\n",
      "State Space: (4,)\n",
      "Action Space: Discrete(2)\n",
      "State Example:\n",
      "[ 3.5333614e+00 -1.3256218e+37 -3.9164603e-01  1.0614501e+38]\n"
     ]
    }
   ],
   "source": [
    "env = gym.make('CartPole-v1')\n",
    "\n",
    "print(f'Max Steps in an episode: {env.spec.max_episode_steps}')\n",
    "print(f'Reward threshold: {env.spec.reward_threshold}')\n",
    "print(f'State Space: {env.observation_space.shape}')\n",
    "print(f'Action Space: {env.action_space}')\n",
    "print('State Example:')\n",
    "print(env.observation_space.sample())"
   ],
   "metadata": {
    "collapsed": false
   }
  },
  {
   "cell_type": "code",
   "execution_count": 8,
   "outputs": [],
   "source": [
    "import torch\n",
    "from collections import OrderedDict\n",
    "\n",
    "\n",
    "class Policy:\n",
    "\n",
    "    def __init__(self, n_state, n_action, stochastic_policy=False, random_seed=110):\n",
    "        self.n_state = n_state\n",
    "        self.n_action = n_action\n",
    "        self.stochastic_policy = stochastic_policy\n",
    "        # Initialize weight matrix\n",
    "        np.random.seed(random_seed)\n",
    "        self.model = LinearModel(n_inputs=n_state, n_output=n_action)\n",
    "        self.w = np.random.rand(n_state, n_action) * 1e-3\n",
    "        self.load_weights(w=self.w)\n",
    "\n",
    "\n",
    "    def load_weights(self, w):\n",
    "        params = OrderedDict()\n",
    "        params['layer1.weight'] = torch.tensor(w, dtype=torch.float32)\n",
    "        self.model.load_state_dict(params)\n",
    "\n",
    "\n",
    "    def select_action(self, state, w):\n",
    "        self.load_weights(w)\n",
    "        probs = self.model.forward(state)\n",
    "        if self.stochastic_policy:\n",
    "            action = np.random.choice(range(self.n_action), p=probs)\n",
    "        else:\n",
    "            action = np.argmax(probs)\n",
    "        return action"
   ],
   "metadata": {
    "collapsed": false
   }
  }
 ],
 "metadata": {
  "kernelspec": {
   "display_name": "Python 3",
   "language": "python",
   "name": "python3"
  },
  "language_info": {
   "codemirror_mode": {
    "name": "ipython",
    "version": 2
   },
   "file_extension": ".py",
   "mimetype": "text/x-python",
   "name": "python",
   "nbconvert_exporter": "python",
   "pygments_lexer": "ipython2",
   "version": "2.7.6"
  }
 },
 "nbformat": 4,
 "nbformat_minor": 0
}
